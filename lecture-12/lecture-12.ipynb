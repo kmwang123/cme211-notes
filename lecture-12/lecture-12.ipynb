{
 "cells": [
  {
   "cell_type": "markdown",
   "metadata": {},
   "source": [
    "# Pandas!\n",
    "\n",
    "Pandas is a Python module for data analysis.  The central feature of Pandas is a data frame object.  Data frames are useful objects for analyzing and manipulating tabular data.  Think of a spreadsheet on steriods!  The R programming language features a build in data frame class.  In fact, data frames are the fundamental thing to work with in R.  Newer versions of Matlab have the `table` class, which implements some of the functionality available in the Pandas and R data frames.\n",
    "\n",
    "From the [Pandas](http://pandas.pydata.org/) website:\n",
    "\n",
    "* A fast and efficient DataFrame object for data manipulation with integrated indexing;\n",
    "* Tools for reading and writing data between in-memory data structures and different formats: CSV and text files, Microsoft Excel, SQL databases, and the fast HDF5 format;\n",
    "* Intelligent data alignment and integrated handling of missing data: gain automatic label-based alignment in computations and easily manipulate messy data into an orderly form;\n",
    "* Flexible reshaping and pivoting of data sets;\n",
    "* Intelligent label-based slicing, fancy indexing, and subsetting of large data sets;\n",
    "* Columns can be inserted and deleted from data structures for size mutability;\n",
    "* Aggregating or transforming data with a powerful group by engine allowing split-apply-combine operations on data sets;\n",
    "* High performance merging and joining of data sets;\n",
    "* Hierarchical axis indexing provides an intuitive way of working with high-dimensional data in a lower-dimensional data structure;\n",
    "* Time series-functionality: date range generation and frequency conversion, moving window statistics, moving window linear regressions, date shifting and lagging. Even create domain-specific time offsets and join time series without losing data;\n",
    "* Highly optimized for performance, with critical code paths written in Cython or C.\n",
    "* Python with pandas is in use in a wide variety of academic and commercial domains, including Finance, Neuroscience, Economics, Statistics, Advertising, Web Analytics, and more.\n",
    "\n",
    "First we must import pandas.  The conventional way to do so is shown below:"
   ]
  },
  {
   "cell_type": "code",
   "execution_count": null,
   "metadata": {
    "collapsed": true
   },
   "outputs": [],
   "source": [
    "import pandas as pd\n",
    "import numpy as np\n",
    "import matplotlib.pylab as plt\n",
    "%matplotlib inline\n",
    "%config InlineBackend.figure_format = 'svg'"
   ]
  },
  {
   "cell_type": "markdown",
   "metadata": {},
   "source": [
    "## Import data"
   ]
  },
  {
   "cell_type": "markdown",
   "metadata": {},
   "source": [
    "Let's look to see what is in this directory with a \"magic\" Jupyter command:"
   ]
  },
  {
   "cell_type": "code",
   "execution_count": null,
   "metadata": {
    "collapsed": false
   },
   "outputs": [],
   "source": [
    "%ls"
   ]
  },
  {
   "cell_type": "markdown",
   "metadata": {},
   "source": [
    "Ahh, we have a `csv` file.  This is very easy to open in Pandas.  Pandas can also open many other data types.\n",
    "\n",
    "See:  <http://pandas.pydata.org/pandas-docs/version/0.17.0/io.html>\n",
    "\n",
    "Specifically, it is very easy to load data from MS Excel files (`pd.read_excel()`).\n",
    "\n",
    "We have some basketball data from: <http://www.basketball-reference.com/>"
   ]
  },
  {
   "cell_type": "code",
   "execution_count": null,
   "metadata": {
    "collapsed": false
   },
   "outputs": [],
   "source": [
    "nba = pd.read_csv(\"nba-2015.csv\")"
   ]
  },
  {
   "cell_type": "markdown",
   "metadata": {},
   "source": [
    "Let's inspect the data with the `head` method:"
   ]
  },
  {
   "cell_type": "code",
   "execution_count": null,
   "metadata": {
    "collapsed": false
   },
   "outputs": [],
   "source": [
    "nba.head(10)"
   ]
  },
  {
   "cell_type": "markdown",
   "metadata": {},
   "source": [
    "### Exercise:\n",
    "Modify the call to the `head` method to show more or fewer rows."
   ]
  },
  {
   "cell_type": "markdown",
   "metadata": {},
   "source": [
    "The output above does not show all of the columns!  We can inspect the set of columns in a Pandas data fram by looking at the `columns` attribute."
   ]
  },
  {
   "cell_type": "code",
   "execution_count": null,
   "metadata": {
    "collapsed": false
   },
   "outputs": [],
   "source": [
    "nba.columns"
   ]
  },
  {
   "cell_type": "markdown",
   "metadata": {},
   "source": [
    "### Exercise\n",
    "Write a loop to nicely print out the column headers."
   ]
  },
  {
   "cell_type": "code",
   "execution_count": null,
   "metadata": {
    "collapsed": false
   },
   "outputs": [],
   "source": []
  },
  {
   "cell_type": "markdown",
   "metadata": {},
   "source": [
    "## Column glossary\n",
    "\n",
    "In many data sets, a code is use for column headers.  It is important to know about the data you are working with.  Here is what the columns in this dataset mean:\n",
    "\n",
    "```\n",
    "| Rk     |                                 |\n",
    "| Player |                                 |\n",
    "| Pos    | Position                        |\n",
    "| Age    |                                 |\n",
    "| Tm     | Team                            |\n",
    "| G      | Games                           |\n",
    "| GS     | Games started                   |\n",
    "| MP     | Minutes played                  |\n",
    "| FG     | Field goals                     |\n",
    "| FGA    | Field goals attempted           |\n",
    "| FG%    | Field goal percentage           |\n",
    "| 3P     | 3 pt field goals                |\n",
    "| 3PA    | 3 pt field goals attempted      |\n",
    "| 3P     | 3 pt field goal percentace      |\n",
    "| 2P     | 2 pt field goals                |\n",
    "| 2PA    | 2 pt field goals attempted      |\n",
    "| 2P     | 2 pt field goals percentage     |\n",
    "| eFG%   | effective field goal percentage |\n",
    "| FT     | Free throws                     |\n",
    "| FTA    | Free throws attempted           |\n",
    "| FT%    | Free throw percentage           |\n",
    "| ORB    | Offensive rebounds              |\n",
    "| DRB    | Defenseive rebounds             |\n",
    "| TRB    | Total rebounds                  |\n",
    "| AST    | Assists                         |\n",
    "| STL    | Steals                          |\n",
    "| BLK    | Blocks                          |\n",
    "| TOV    | Turnovers                       |\n",
    "| PF     | Personal fouls                  |\n",
    "| PTS    | Total points                    |\n",
    "```"
   ]
  },
  {
   "cell_type": "code",
   "execution_count": null,
   "metadata": {
    "collapsed": false
   },
   "outputs": [],
   "source": [
    "nba.info()"
   ]
  },
  {
   "cell_type": "markdown",
   "metadata": {},
   "source": [
    "## Indexing\n",
    "\n",
    "```\n",
    "| Operation                      | Syntax        | Result    |\n",
    "|--------------------------------+---------------+-----------|\n",
    "| Select column                  | df[col]       | Series    |\n",
    "| Select row by label            | df.loc[label] | Series    |\n",
    "| Select row by integer location | df.iloc[loc]  | Series    |\n",
    "| Slice rows                     | df[5:10]      | DataFrame |\n",
    "| Select rows by boolean vector  | df[bool_vec]  | DataFrame |\n",
    "```\n",
    "\n",
    "* A *Series* object is a single column in the table\n",
    "* A *DataFrame* object is the table "
   ]
  },
  {
   "cell_type": "markdown",
   "metadata": {},
   "source": [
    "### Column selection"
   ]
  },
  {
   "cell_type": "code",
   "execution_count": null,
   "metadata": {
    "collapsed": false
   },
   "outputs": [],
   "source": [
    "# extract a single column with column index name\n",
    "nba['Player'].head()"
   ]
  },
  {
   "cell_type": "code",
   "execution_count": null,
   "metadata": {
    "collapsed": false
   },
   "outputs": [],
   "source": [
    "nba['PTS'].head()"
   ]
  },
  {
   "cell_type": "code",
   "execution_count": null,
   "metadata": {
    "collapsed": false
   },
   "outputs": [],
   "source": [
    "# select several columns by passing a sequence of column names\n",
    "# (this returns a data frame)\n",
    "nba[['Player','PTS']].head()"
   ]
  },
  {
   "cell_type": "markdown",
   "metadata": {},
   "source": [
    "### Row selection\n",
    "\n",
    "Currently all row labels in this data set are integers, so row access via `nba.loc` and `nba.iloc` are equivalent."
   ]
  },
  {
   "cell_type": "code",
   "execution_count": null,
   "metadata": {
    "collapsed": false
   },
   "outputs": [],
   "source": [
    "nba.loc[100]"
   ]
  },
  {
   "cell_type": "code",
   "execution_count": null,
   "metadata": {
    "collapsed": false
   },
   "outputs": [],
   "source": [
    "# select multiple rows with an integer index slice\n",
    "nba[200:205]"
   ]
  },
  {
   "cell_type": "code",
   "execution_count": null,
   "metadata": {
    "collapsed": false
   },
   "outputs": [],
   "source": [
    "# we can compute a boolean series with python inequality operators\n",
    "(nba['PTS'] >= 1000).head(10)"
   ]
  },
  {
   "cell_type": "code",
   "execution_count": null,
   "metadata": {
    "collapsed": false
   },
   "outputs": [],
   "source": [
    "# we can select all rows that pass a filter\n",
    "nba[nba['PTS'] >= 1500]"
   ]
  },
  {
   "cell_type": "markdown",
   "metadata": {},
   "source": [
    "## Column modifications"
   ]
  },
  {
   "cell_type": "code",
   "execution_count": null,
   "metadata": {
    "collapsed": false
   },
   "outputs": [],
   "source": [
    "# let's create a new column\n",
    "nba['ASB'] = nba['AST'] + nba['STL'] + nba['BLK']\n",
    "nba.head()"
   ]
  },
  {
   "cell_type": "code",
   "execution_count": null,
   "metadata": {
    "collapsed": false
   },
   "outputs": [],
   "source": [
    "# let's delete the column we just made\n",
    "del nba['ASB']\n",
    "nba.head()"
   ]
  },
  {
   "cell_type": "markdown",
   "metadata": {},
   "source": [
    "## Simple plotting"
   ]
  },
  {
   "cell_type": "code",
   "execution_count": null,
   "metadata": {
    "collapsed": false
   },
   "outputs": [],
   "source": [
    "# histogram of single column\n",
    "nba['PTS'].hist()"
   ]
  },
  {
   "cell_type": "code",
   "execution_count": null,
   "metadata": {
    "collapsed": false
   },
   "outputs": [],
   "source": [
    "# scatter plot of two columns\n",
    "plt.plot(nba['G'],nba['FGA'],'o',alpha=0.2)\n",
    "plt.xlabel('games played')\n",
    "plt.ylabel('field goal %')"
   ]
  },
  {
   "cell_type": "code",
   "execution_count": null,
   "metadata": {
    "collapsed": false
   },
   "outputs": [],
   "source": [
    "# scatter matrix of multiple columns\n",
    "pd.tools.plotting.scatter_matrix(nba[['AST','FG','TRB','PF']], alpha=0.2)\n",
    "plt.tight_layout()"
   ]
  },
  {
   "cell_type": "markdown",
   "metadata": {},
   "source": [
    "## Grouping and aggregation\n",
    "\n",
    "In this data set, a player may have multiple rows based on teams they played for during the year.  Let's get the total points for all players."
   ]
  },
  {
   "cell_type": "code",
   "execution_count": null,
   "metadata": {
    "collapsed": true
   },
   "outputs": [],
   "source": [
    "player_pts = nba[['Player','PTS']].groupby('Player').agg({'PTS':np.sum})\n",
    "# this is an example of \"method chaining\""
   ]
  },
  {
   "cell_type": "code",
   "execution_count": null,
   "metadata": {
    "collapsed": false
   },
   "outputs": [],
   "source": [
    "player_pts.head()"
   ]
  },
  {
   "cell_type": "code",
   "execution_count": null,
   "metadata": {
    "collapsed": false
   },
   "outputs": [],
   "source": [
    "player_pts.loc['Arron Afflalo']"
   ]
  },
  {
   "cell_type": "code",
   "execution_count": null,
   "metadata": {
    "collapsed": false
   },
   "outputs": [],
   "source": [
    "nba[nba['Player'] == 'Arron Afflalo']"
   ]
  },
  {
   "cell_type": "markdown",
   "metadata": {},
   "source": [
    "## Exercises"
   ]
  },
  {
   "cell_type": "markdown",
   "metadata": {},
   "source": [
    "List players who have played for more than one team. (Hint: use the `count()` method on the object returned from `groupby`)\n",
    "\n",
    "What is the max number of teams any player has played for?"
   ]
  },
  {
   "cell_type": "code",
   "execution_count": null,
   "metadata": {
    "collapsed": false
   },
   "outputs": [],
   "source": []
  },
  {
   "cell_type": "markdown",
   "metadata": {},
   "source": [
    "What is the highest scoring team?\n",
    "What is the lowest scoring team?"
   ]
  },
  {
   "cell_type": "code",
   "execution_count": null,
   "metadata": {
    "collapsed": false
   },
   "outputs": [],
   "source": []
  },
  {
   "cell_type": "markdown",
   "metadata": {},
   "source": [
    "What is highest scoring position?  What is lowest scoring position?  How many players in each position?  What is average score per position?"
   ]
  },
  {
   "cell_type": "code",
   "execution_count": null,
   "metadata": {
    "collapsed": false
   },
   "outputs": [],
   "source": []
  },
  {
   "cell_type": "markdown",
   "metadata": {},
   "source": [
    "More questions:\n",
    "* Is there a correlation between fouls and rebounds?  What if we normalize by minutes played?\n",
    "* What player has the most points per minute played?\n",
    "* Plot a histogram of minutes played for players?\n",
    "* What team has the highest variance of points scored by individual players?\n",
    "* What team has the lowest variance of points scored by individual players?"
   ]
  },
  {
   "cell_type": "markdown",
   "metadata": {},
   "source": [
    "## References\n",
    "\n",
    "* **Python for Data Analysis** by Wes McKinney (2012)  \n",
    "  <http://proquest.safaribooksonline.com/book/programming/python/9781449323592/firstchapter>\n",
    "* Pandas online documentation:  \n",
    "  <http://pandas.pydata.org/pandas-docs/stable>"
   ]
  }
 ],
 "metadata": {
  "kernelspec": {
   "display_name": "Python 2",
   "language": "python",
   "name": "python2"
  },
  "language_info": {
   "codemirror_mode": {
    "name": "ipython",
    "version": 2
   },
   "file_extension": ".py",
   "mimetype": "text/x-python",
   "name": "python",
   "nbconvert_exporter": "python",
   "pygments_lexer": "ipython2",
   "version": "2.7.10"
  }
 },
 "nbformat": 4,
 "nbformat_minor": 0
}
