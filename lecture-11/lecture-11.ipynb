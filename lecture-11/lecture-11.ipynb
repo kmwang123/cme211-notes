{
 "cells": [
  {
   "cell_type": "markdown",
   "metadata": {},
   "source": [
    "# CME 211: Lecture 11\n",
    "\n",
    "Monday, October 14, 2015\n",
    "\n",
    "Topics: SciPy and matplotlib\n",
    "\n",
    "## SciPy\n",
    "\n",
    "See: <http://scipy.org/>\n",
    "\n",
    "SciPy (pronounced \"Sigh Pie\") is a Python-based ecosystem of open-source\n",
    "software for mathematics, science, and engineering. In particular, these are\n",
    "some of the core packages:\n",
    "\n",
    "![fig](fig/scipy-packages.png)\n",
    "\n",
    "Actively developed:\n",
    "\n",
    "![fig](fig/actively-developed.png)\n",
    "\n",
    "### SciPy Subpackages\n",
    "\n",
    "See: <http://docs.scipy.org/doc/scipy/reference/>\n",
    "\n",
    "* Clustering package (`scipy.cluster`)\n",
    "* Constants (`scipy.constants`)\n",
    "* Discrete Fourier transforms (`scipy.fftpack`)\n",
    "* Integration and ODEs (`scipy.integrate`)\n",
    "* Interpolation (`scipy.interpolate`)\n",
    "* Input and output (`scipy.io`)\n",
    "* Linear algebra (`scipy.linalg`)\n",
    "* Miscellaneous routines (`scipy.misc`)\n",
    "* Multi-dimensional image processing (`scipy.ndimage`)\n",
    "* Orthogonal distance regression (`scipy.odr`)\n",
    "* Optimization and root finding (`scipy.optimize`)\n",
    "* Signal processing (`scipy.signal`)\n",
    "* Sparse matrices (`scipy.sparse`)\n",
    "* Sparse linear algebra (`scipy.sparse.linalg`)\n",
    "* Compressed Sparse Graph Routines (`scipy.sparse.csgraph`)\n",
    "* Spatial algorithms and data structures (`scipy.spatial`)\n",
    "* Special functions (`scipy.special`)\n",
    "* Statistical functions (`scipy.stats`)\n",
    "* Statistical functions for masked arrays (`scipy.stats.mstats`)\n",
    "* C/C++ integration (`scipy.weave`)\n",
    "\n",
    "### Loading and saving MATLAB files\n",
    "\n",
    "Let's create a MATLAB data file in Octave.  Octave is an open source MATLAB clone:"
   ]
  },
  {
   "cell_type": "raw",
   "metadata": {},
   "source": [
    "octave:1> a = [42, 17, -19; 9, 3, 0];\n",
    "octave:2> a\n",
    "a =\n",
    "\n",
    "   42   17  -19\n",
    "    9    3    0\n",
    "\n",
    "octave:3> save -6 matlabfile.mat a\n",
    "octave:4>"
   ]
  },
  {
   "cell_type": "markdown",
   "metadata": {},
   "source": [
    "Let's use SciPy to open the matlab data file:"
   ]
  },
  {
   "cell_type": "code",
   "execution_count": null,
   "metadata": {
    "collapsed": false
   },
   "outputs": [],
   "source": [
    "import scipy.io\n",
    "data = scipy.io.loadmat('matlabfile.mat')\n",
    "print(data)\n",
    "print(data['a'])"
   ]
  },
  {
   "cell_type": "markdown",
   "metadata": {},
   "source": [
    "Note: SciPy submodules must be specifically imported.  For example the `io`\n",
    "module is not imported with `import scipy`.  Need to `import scipy.io`."
   ]
  },
  {
   "cell_type": "raw",
   "metadata": {},
   "source": [
    ">>> import scipy\n",
    ">>> data = scipy.io.loadmat('matlabfile.mat')\n",
    "Traceback (most recent call last):\n",
    "  File \"<stdin>\", line 1, in <module>\n",
    "AttributeError: 'module' object has no attribute 'io'"
   ]
  },
  {
   "cell_type": "markdown",
   "metadata": {},
   "source": [
    "### More I/O\n",
    "\n",
    "* Image support\n",
    "\n",
    "* Little bit of audio support\n",
    "\n",
    "* Support for [NetCDF][https://en.wikipedia.org/wiki/NetCDF] (Network Common\n",
    "Data Form), a file format used in scientific computing for handling large arrays\n",
    "of data\n",
    "\n",
    "* Support for [HDF][https://en.wikipedia.org/wiki/Hierarchical_Data_Format].\n",
    "  (NetCDF 4 is based on HDF5)\n",
    "\n",
    "### Image Processing"
   ]
  },
  {
   "cell_type": "code",
   "execution_count": null,
   "metadata": {
    "collapsed": true
   },
   "outputs": [],
   "source": [
    "import numpy\n",
    "import scipy.misc, scipy.signal\n",
    "im = scipy.misc.imread('fig/memchu.jpg',flatten=True).astype(numpy.float32)\n",
    "laplacian = numpy.array([[0,1,0],[1,-4,1],[0,1,0]], dtype=numpy.float32)\n",
    "ck = scipy.signal.cspline2d(im, 8.0)\n",
    "edge = scipy.signal.convolve2d(ck, laplacian,mode='same',boundary='symm')\n",
    "scipy.misc.imsave('fig/edge.jpg', edge)"
   ]
  },
  {
   "cell_type": "markdown",
   "metadata": {},
   "source": [
    "Input image:\n",
    "\n",
    "![fig](fig/memchu.jpg)\n",
    "\n",
    "Output image:\n",
    "\n",
    "![fig](fig/edge.jpg)\n",
    "\n",
    "### Quadrature\n",
    "\n",
    "Quadrature = numerical integration.  We want an approximation to:\n",
    "\n",
    "$$\n",
    "\\int_a^b f(x) dx\n",
    "$$"
   ]
  },
  {
   "cell_type": "code",
   "execution_count": null,
   "metadata": {
    "collapsed": false
   },
   "outputs": [],
   "source": [
    "import scipy.integrate\n",
    "\n",
    "# define function to integrate\n",
    "def line(x):\n",
    "    return x\n",
    "\n",
    "print(scipy.integrate.quad(line, 0., 1.))\n",
    "print(scipy.integrate.quad(line, -1., 1.))"
   ]
  },
  {
   "cell_type": "markdown",
   "metadata": {},
   "source": [
    "### Optimization\n",
    "\n",
    "Numerical optimization methods attempt to solve the problem:\n",
    "\n",
    "$$\n",
    "\\begin{array}{ll} \\mbox{minimize} & f_0(x)\\\\\n",
    "\\mbox{subject to} & f_i(x) \\leq 0, \\quad i=1,\\ldots,m\n",
    "\\end{array}\n",
    "$$\n",
    "\n",
    "Let's use `scipy.optimize` to solve an unconstrained optimization problem:"
   ]
  },
  {
   "cell_type": "code",
   "execution_count": null,
   "metadata": {
    "collapsed": false
   },
   "outputs": [],
   "source": [
    "import numpy\n",
    "import scipy.optimize\n",
    "import math\n",
    "def rosenbrock(xy):\n",
    "    x = xy[0]\n",
    "    y = xy[1]\n",
    "    f = math.pow(1.-x,2.) + 100*math.pow(y-x*x,2.)\n",
    "    return f\n",
    "\n",
    "xy0 = numpy.array([0., 0.])\n",
    "min = scipy.optimize.fmin(rosenbrock, xy0)\n",
    "print(min)\n",
    "print(rosenbrock(min))"
   ]
  },
  {
   "cell_type": "markdown",
   "metadata": {},
   "source": [
    "### Linear algebra\n",
    "\n",
    "* Matrix inversion\n",
    "* Linear solver (direct)\n",
    "* Least squares\n",
    "* Eigenvalues / eigenvectors\n",
    "* Singular Value Decomposition (SVD)\n",
    "* LU, QR, Cholesky, Schur decompositions\n",
    "\n",
    "### Solver example\n",
    "\n",
    "Here is a $3 \\times 3$ system of linear equations:\n",
    "\n",
    "$$\n",
    "\\begin{align}\n",
    "y + 2x - z &= 8 \\\\\n",
    "2z - y - 3x &= -11 \\\\\n",
    "-2x + 2z + y &= -3 \\\\\n",
    "\\end{align}\n",
    "$$\n",
    "\n",
    "Convert to matrix-vector form:\n",
    "\n",
    "$$\n",
    "\\begin{pmatrix}\n",
    "1 & 2 & -1 \\\\\n",
    "2 & -1 & -3 \\\\\n",
    "-2 & 2 & 1 \n",
    "\\end{pmatrix}\n",
    "\\begin{pmatrix}\n",
    "x \\\\ y \\\\ z\n",
    "\\end{pmatrix}\n",
    "=\n",
    "\\begin{pmatrix}\n",
    "8 \\\\ -11 \\\\ -3\n",
    "\\end{pmatrix}\n",
    "$$\n",
    "\n",
    "Solve with Python:"
   ]
  },
  {
   "cell_type": "code",
   "execution_count": null,
   "metadata": {
    "collapsed": false
   },
   "outputs": [],
   "source": [
    "import numpy\n",
    "import scipy.linalg\n",
    "A = numpy.array(([2., 1., -1.],[-3., -1., 2.],[-2., 1., 2.]))\n",
    "b = numpy.array([8., -11., -3.])\n",
    "x = scipy.linalg.solve(A, b)\n",
    "# print the solution\n",
    "print(x)\n",
    "# check the solution\n",
    "print(scipy.linalg.norm(numpy.dot(A,x)-b))"
   ]
  },
  {
   "cell_type": "markdown",
   "metadata": {},
   "source": [
    "### Sparse matrices\n",
    "\n",
    "* Many problems lead to matrices with large numbers of zeros (like > 99% zeros)\n",
    "\n",
    "* Discretization of Partial Differential Equations (PDEs), social graphs, etc.\n",
    "\n",
    "* Can store these efficiently using a sparse matrix storage format such as\n",
    "Compressed Row Storage (CRS), sometimes also called Compressed Sparse Row (CSR)\n",
    "\n",
    "* One typical format for file exchange is Matrix Market (`.mtx`)\n",
    "\n",
    "* See: <http://math.nist.gov/MatrixMarket/>\n",
    "\n",
    "* Another source for sparse matrices: <https://www.cise.ufl.edu/research/sparse/matrices/>\n",
    "\n",
    "### Compressed Row Storage\n",
    "\n",
    "Dense matrix :\n",
    "\n",
    "$$\n",
    "\\begin{bmatrix}\n",
    "10 & 0 & 0 & 0 \\\\\n",
    " 3 & 9 & 0 & 0 \\\\\n",
    " 0 & 7 & 8 & 7 \\\\\n",
    " 0 & 0 & 3 & 7 \n",
    "\\end{bmatrix}\n",
    "$$\n",
    "\n",
    "Sparse matrix storage with 0-based indexing:"
   ]
  },
  {
   "cell_type": "raw",
   "metadata": {},
   "source": [
    "val: 10 3 9 7 8 7 3 7\n",
    "col_ind: 0 0 1 1 2 3 2 3\n",
    "row_ptr: 0 1 3 6 8"
   ]
  },
  {
   "cell_type": "markdown",
   "metadata": {},
   "source": [
    "Question: what is the storage complexity for these different storage methods?\n",
    "\n",
    "### Matrix Market files"
   ]
  },
  {
   "cell_type": "code",
   "execution_count": null,
   "metadata": {
    "collapsed": false
   },
   "outputs": [],
   "source": [
    "!head -n 20 data/LFAT5.mtx"
   ]
  },
  {
   "cell_type": "markdown",
   "metadata": {},
   "source": [
    "### Reading / writing sparse matrices"
   ]
  },
  {
   "cell_type": "code",
   "execution_count": null,
   "metadata": {
    "collapsed": false
   },
   "outputs": [],
   "source": [
    "import scipy.io\n",
    "A = scipy.io.mmio.mmread('data/LFAT5.mtx')\n",
    "print(A)"
   ]
  },
  {
   "cell_type": "markdown",
   "metadata": {},
   "source": [
    "### Sparse matrix applications\n",
    "\n",
    "See <https://www.cise.ufl.edu/research/sparse/matrices/>.\n",
    "\n",
    "### Sparse linear solvers\n",
    "\n",
    "* In the `scipy.sparse.linalg` subpackage\n",
    "* Direct solver\n",
    "* Iterative solvers\n",
    "    * Conjugate Gradient (CG)\n",
    "    * BiConjugate Gradient (BiCG)\n",
    "    * BiConjugate Gradient STABilized (BiCGSTAB)\n",
    "    * MINimum RESidual (MINRES)\n",
    "    * Generalized Minimum RESidual (GMRES)\n",
    "* Factorizations\n",
    "\n",
    "### Sparse solver examples"
   ]
  },
  {
   "cell_type": "code",
   "execution_count": null,
   "metadata": {
    "collapsed": false
   },
   "outputs": [],
   "source": [
    "import numpy\n",
    "import scipy.io\n",
    "import scipy.linalg\n",
    "import scipy.sparse.linalg\n",
    "import time\n",
    "\n",
    "K = scipy.io.mmio.mmread('data/nasa1824.mtx').tocsr()\n",
    "f = numpy.squeeze(scipy.io.mmio.mmread('data/nasa1824_b.mtx'))\n",
    "\n",
    "# Direct solve\n",
    "t0 = time.time()\n",
    "u = scipy.sparse.linalg.spsolve(K, f)\n",
    "t1 = time.time()\n",
    "err = scipy.linalg.norm(K*u - f)\n",
    "print \"spsolve() time = %f seconds\" % (t1-t0)\n",
    "print \"err = %e\" % err\n",
    "\n",
    "# Iterative solve (Conjugate Gradient)\n",
    "t0 = time.time()\n",
    "u, info = scipy.sparse.linalg.cg(K, f, tol=1.e-7)\n",
    "t1 = time.time()\n",
    "err = scipy.linalg.norm(K*u - f)\n",
    "print \"cg() time = %f seconds\" % (t1-t0)\n",
    "print \"err = %e\" % err\n",
    "print \"info = %d\" % info"
   ]
  },
  {
   "cell_type": "markdown",
   "metadata": {},
   "source": [
    "### Sparse matrix eigenvalues"
   ]
  },
  {
   "cell_type": "code",
   "execution_count": null,
   "metadata": {
    "collapsed": false
   },
   "outputs": [],
   "source": [
    "import scipy.io\n",
    "import scipy.sparse.linalg\n",
    "A = scipy.io.mmio.mmread('data/LFAT5.mtx')\n",
    "scipy.sparse.linalg.eigsh(A,return_eigenvectors=False)"
   ]
  },
  {
   "cell_type": "markdown",
   "metadata": {},
   "source": [
    "### SciPy summary\n",
    "\n",
    "* Take a look at what is available so when the time comes you will know not to\n",
    "write those things from scratch\n",
    "\n",
    "* Some of these even allow you to utilize parallel computing because the\n",
    "implementations are multithreaded and will use multiple CPU cores\n",
    "\n",
    "## matplotlib\n",
    "\n",
    "Examples from: <http://matplotlib.org/gallery.html>\n",
    "\n",
    "### Getting started\n",
    "\n",
    "* Plotting functionality can be access through either of\n",
    "these two module names:\n",
    "\n",
    "  * `matplotlib.pyplot`\n",
    "\n",
    "  * `pylab`\n",
    "\n",
    "* `pylab` module combines the namespaces of the `matplotlib.pyplot` module plus\n",
    "`numpy` and is intended for quick, interactive use\n",
    "\n",
    "* `matplotlib.pyplot` is intended for use when writing code to be executed out\n",
    "of a `.py` file\n",
    "\n",
    "* Conventions:\n",
    "\n",
    "  * `import matplotlib.pyplot as plt`\n",
    "\n",
    "  * `import numpy as np`\n",
    "\n",
    "### `pylab` includes `numpy`"
   ]
  },
  {
   "cell_type": "code",
   "execution_count": null,
   "metadata": {
    "collapsed": false
   },
   "outputs": [],
   "source": [
    "import pylab\n",
    "a = pylab.arange(9, dtype=pylab.float64)\n",
    "print(a)\n",
    "a = pylab.arange(9, dtype=pylab.float64).reshape(3,3)\n",
    "print(a)"
   ]
  },
  {
   "cell_type": "markdown",
   "metadata": {},
   "source": [
    "### `matplotlib.pyplot`\n",
    "\n",
    "Doesn't include numpy functionality:"
   ]
  },
  {
   "cell_type": "code",
   "execution_count": null,
   "metadata": {
    "collapsed": false
   },
   "outputs": [],
   "source": [
    "import matplotlib.pyplot\n",
    "a = matplotlib.pyplot.arange(9)"
   ]
  },
  {
   "cell_type": "markdown",
   "metadata": {},
   "source": [
    "### Your first plot\n",
    "\n",
    "Some good Jupyter Settings:"
   ]
  },
  {
   "cell_type": "code",
   "execution_count": null,
   "metadata": {
    "collapsed": true
   },
   "outputs": [],
   "source": [
    "import matplotlib.pyplot as plt\n",
    "import numpy as np\n",
    "%matplotlib inline\n",
    "%config InlineBackend.figure_format = 'svg'"
   ]
  },
  {
   "cell_type": "markdown",
   "metadata": {},
   "source": [
    "A simple plot:"
   ]
  },
  {
   "cell_type": "code",
   "execution_count": null,
   "metadata": {
    "collapsed": false
   },
   "outputs": [],
   "source": [
    "plt.plot(2*np.arange(5))"
   ]
  },
  {
   "cell_type": "markdown",
   "metadata": {},
   "source": [
    "### Saving to a file\n",
    "\n",
    "The `savefig` function saves the most recent plot to disk.  The file type is\n",
    "determined by the extension:"
   ]
  },
  {
   "cell_type": "code",
   "execution_count": null,
   "metadata": {
    "collapsed": false
   },
   "outputs": [],
   "source": [
    "plt.savefig('figure1.jpg')\n",
    "plt.savefig('figure1.png')\n",
    "plt.savefig('figure1.pdf')"
   ]
  },
  {
   "cell_type": "code",
   "execution_count": null,
   "metadata": {
    "collapsed": false
   },
   "outputs": [],
   "source": [
    "%ls"
   ]
  },
  {
   "cell_type": "markdown",
   "metadata": {},
   "source": [
    "### Start a new figure"
   ]
  },
  {
   "cell_type": "code",
   "execution_count": null,
   "metadata": {
    "collapsed": false
   },
   "outputs": [],
   "source": [
    "plt.figure(2)\n",
    "plt.plot(2*np.arange(5), 3*np.arange(5))\n",
    "plt.show(block=False)"
   ]
  },
  {
   "cell_type": "markdown",
   "metadata": {},
   "source": [
    "### Controlling the line type"
   ]
  },
  {
   "cell_type": "code",
   "execution_count": null,
   "metadata": {
    "collapsed": false
   },
   "outputs": [],
   "source": [
    "plt.figure(3)\n",
    "time = np.arange(0,1.01,0.01)\n",
    "signal = np.sin(2*np.pi*time)\n",
    "plt.plot(time, signal, 'bx')\n",
    "plt.show(block=False)"
   ]
  },
  {
   "cell_type": "markdown",
   "metadata": {},
   "source": [
    "### Text"
   ]
  },
  {
   "cell_type": "code",
   "execution_count": null,
   "metadata": {
    "collapsed": false
   },
   "outputs": [],
   "source": [
    "plt.figure(4)\n",
    "plt.plot(time, signal, 'r-')\n",
    "plt.xlabel('Time')\n",
    "plt.ylabel('Signal')\n",
    "plt.title('Signal Strength')\n",
    "plt.show(block=False)"
   ]
  },
  {
   "cell_type": "markdown",
   "metadata": {},
   "source": [
    "### Axis"
   ]
  },
  {
   "cell_type": "code",
   "execution_count": null,
   "metadata": {
    "collapsed": false
   },
   "outputs": [],
   "source": [
    "plt.figure(5)\n",
    "plt.plot(time,signal,'g-')\n",
    "plt.axis([0, 1, -1.5, 1.5])\n",
    "plt.show(block=False)"
   ]
  },
  {
   "cell_type": "markdown",
   "metadata": {},
   "source": [
    "### Plotting multiple data"
   ]
  },
  {
   "cell_type": "code",
   "execution_count": null,
   "metadata": {
    "collapsed": false
   },
   "outputs": [],
   "source": [
    "plt.figure(6)\n",
    "signal2 = np.cos(2*np.pi*time)\n",
    "plt.plot(time,signal,'r-',time,signal2,'b--')\n",
    "plt.show(block=False)"
   ]
  },
  {
   "cell_type": "markdown",
   "metadata": {},
   "source": [
    "### Legend"
   ]
  },
  {
   "cell_type": "code",
   "execution_count": null,
   "metadata": {
    "collapsed": false
   },
   "outputs": [],
   "source": [
    "plt.figure(7)\n",
    "p1, = plt.plot(time,signal,'r-')\n",
    "p2, = plt.plot(time,signal2,'b--')\n",
    "plt.legend([p1, p2], [\"sin\", \"cos\"])\n",
    "plt.show(block=False)"
   ]
  },
  {
   "cell_type": "markdown",
   "metadata": {},
   "source": [
    "### Subplots"
   ]
  },
  {
   "cell_type": "code",
   "execution_count": null,
   "metadata": {
    "collapsed": false
   },
   "outputs": [],
   "source": [
    "plt.figure(8)\n",
    "plt.subplot(211)\n",
    "plt.plot(time,signal,'r-')\n",
    "plt.subplot(212)\n",
    "plt.plot(time,signal2,'b--')\n",
    "plt.show(block=False)"
   ]
  },
  {
   "cell_type": "markdown",
   "metadata": {},
   "source": [
    "### Pseudocolor plot"
   ]
  },
  {
   "cell_type": "code",
   "execution_count": null,
   "metadata": {
    "collapsed": false
   },
   "outputs": [],
   "source": [
    "delta = 0.05\n",
    "X = np.arange(-2., 2.+delta, delta)\n",
    "Y = np.arange(-1., 3.+delta, delta)\n",
    "X, Y = np.meshgrid(X, Y)\n",
    "Z = (1.-X)**2 + 100.*(Y-X*X)**2\n",
    "plt.figure(9)\n",
    "plt.pcolor(X, Y, Z)\n",
    "plt.colorbar()\n",
    "plt.axis([-2, 2, -1, 3])\n",
    "plt.show(block=False)"
   ]
  }
 ],
 "metadata": {
  "kernelspec": {
   "display_name": "Python 2",
   "language": "python",
   "name": "python2"
  },
  "language_info": {
   "codemirror_mode": {
    "name": "ipython",
    "version": 2
   },
   "file_extension": ".py",
   "mimetype": "text/x-python",
   "name": "python",
   "nbconvert_exporter": "python",
   "pygments_lexer": "ipython2",
   "version": "2.7.10"
  }
 },
 "nbformat": 4,
 "nbformat_minor": 0
}
