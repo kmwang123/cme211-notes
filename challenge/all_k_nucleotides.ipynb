{
 "cells": [
  {
   "cell_type": "markdown",
   "metadata": {},
   "source": [
    "# All $k$-nucleotides\n",
    "\n",
    "Today's challenge is to implement the function `get_k_nucleotides` from CME 211 quiz 1.\n",
    "\n",
    "## Description of problem from quiz\n",
    "\n",
    "One common technique in DNA analysis is comparing the frequencies of $k$-nucleotide sequences. A $k$-nucleotide is a sequence of of $k$ DNA nucleotides. In order to perform any analysis of $k$-nucleotides, it is useful to have a container with all $k$-nucleotides.\n",
    "\n",
    "Write the function `get_k_nucleotides(k)` which takes in `k` as the nucleotide sequence length as an input argument and returns a list object containing all length `k` nucleotide sequences as Python strings.\n",
    "\n",
    "Remember the DNA \"letters\" are A, C, G, and T."
   ]
  },
  {
   "cell_type": "code",
   "execution_count": 3,
   "metadata": {
    "collapsed": true
   },
   "outputs": [],
   "source": [
    "# example function\n",
    "def get_k_nucleotides(k):\n",
    "    pass"
   ]
  },
  {
   "cell_type": "code",
   "execution_count": 9,
   "metadata": {
    "collapsed": false
   },
   "outputs": [
    {
     "data": {
      "text/plain": [
       "[]"
      ]
     },
     "execution_count": 9,
     "metadata": {},
     "output_type": "execute_result"
    }
   ],
   "source": [
    "# example 0\n",
    "get_k_nucleotides(0)"
   ]
  },
  {
   "cell_type": "code",
   "execution_count": 10,
   "metadata": {
    "collapsed": false
   },
   "outputs": [
    {
     "data": {
      "text/plain": [
       "['A', 'C', 'G', 'T']"
      ]
     },
     "execution_count": 10,
     "metadata": {},
     "output_type": "execute_result"
    }
   ],
   "source": [
    "# example 1\n",
    "get_k_nucleotides(1)"
   ]
  },
  {
   "cell_type": "code",
   "execution_count": 11,
   "metadata": {
    "collapsed": false
   },
   "outputs": [
    {
     "data": {
      "text/plain": [
       "['AA',\n",
       " 'CA',\n",
       " 'GA',\n",
       " 'TA',\n",
       " 'AC',\n",
       " 'CC',\n",
       " 'GC',\n",
       " 'TC',\n",
       " 'AG',\n",
       " 'CG',\n",
       " 'GG',\n",
       " 'TG',\n",
       " 'AT',\n",
       " 'CT',\n",
       " 'GT',\n",
       " 'TT']"
      ]
     },
     "execution_count": 11,
     "metadata": {},
     "output_type": "execute_result"
    }
   ],
   "source": [
    "# example 2\n",
    "get_k_nucleotides(2)"
   ]
  }
 ],
 "metadata": {
  "kernelspec": {
   "display_name": "Python 2",
   "language": "python",
   "name": "python2"
  },
  "language_info": {
   "codemirror_mode": {
    "name": "ipython",
    "version": 2
   },
   "file_extension": ".py",
   "mimetype": "text/x-python",
   "name": "python",
   "nbconvert_exporter": "python",
   "pygments_lexer": "ipython2",
   "version": "2.7.10"
  }
 },
 "nbformat": 4,
 "nbformat_minor": 0
}
