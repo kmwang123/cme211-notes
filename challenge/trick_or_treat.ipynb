{
 "cells": [
  {
   "cell_type": "markdown",
   "metadata": {},
   "source": [
    "# Trick or Treat!\n",
    "\n",
    "Halloween is coming soon and you've been asked to create a program to help parents and children get just what they want. Parents want to give children an upper bound on the amount of candy they can receive and children want as much candy as they get without upsetting their parents.\n",
    "\n",
    "Fortunately, in our neighborhoods, we know in advance exactly how many pieces of candy each home hands out to the children. A child has to take all the candy given by the home so they don't seem rude, and they can't throw away or eat any candy on the way. Children also have to stop at every home in the sequence of homes.\n",
    "\n",
    "## Challenge\n",
    "\n",
    "Given these conditions write a Python function to find the best consecutive sequence of homes for children to visit with following input/output."
   ]
  },
  {
   "cell_type": "code",
   "execution_count": 2,
   "metadata": {
    "collapsed": false
   },
   "outputs": [],
   "source": [
    "def trick_or_treat(houses,capacity):\n",
    "    \"\"\"return range of houses to maximize candy s.t. capacity\n",
    "\n",
    "    input:\n",
    "      houses = list of house candy output\n",
    "      capacity = max candy that may be collected\n",
    "\n",
    "    output: (start, end)\n",
    "      start = start index of range of houses to visit\n",
    "      end = one past the end index of houses to visit\n",
    "    \"\"\"\n",
    "    pass"
   ]
  },
  {
   "cell_type": "code",
   "execution_count": 9,
   "metadata": {
    "collapsed": false
   },
   "outputs": [
    {
     "data": {
      "text/plain": [
       "(4, 5)"
      ]
     },
     "execution_count": 9,
     "metadata": {},
     "output_type": "execute_result"
    }
   ],
   "source": [
    "trick_or_treat([4,0,0,2,3,2],3)"
   ]
  },
  {
   "cell_type": "code",
   "execution_count": 14,
   "metadata": {
    "collapsed": false
   },
   "outputs": [
    {
     "name": "stdout",
     "output_type": "stream",
     "text": [
      "(2, 5)\n",
      "[10, 9, 8]\n",
      "27\n"
     ]
    }
   ],
   "source": [
    "h = [13,12,10,9,8,7,6,5,4,3,2,1]\n",
    "s, e = trick_or_treat(h,27)\n",
    "print((s,e))\n",
    "print(h[s:e])\n",
    "print(sum(h[s:e]))"
   ]
  }
 ],
 "metadata": {
  "kernelspec": {
   "display_name": "Python 2",
   "language": "python",
   "name": "python2"
  },
  "language_info": {
   "codemirror_mode": {
    "name": "ipython",
    "version": 2
   },
   "file_extension": ".py",
   "mimetype": "text/x-python",
   "name": "python",
   "nbconvert_exporter": "python",
   "pygments_lexer": "ipython2",
   "version": "2.7.10"
  }
 },
 "nbformat": 4,
 "nbformat_minor": 0
}
