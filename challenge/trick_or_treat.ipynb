{
 "cells": [
  {
   "cell_type": "markdown",
   "metadata": {},
   "source": [
    "# Trick or Treat!\n",
    "\n",
    "Halloween is coming soon and you've been asked to create a program to help parents and children get just what they want. Parents want to give children an upper bound on the amount of candy they can receive and children want as much candy as they get without upsetting their parents.\n",
    "\n",
    "Fortunately, in our neighborhoods, we know in advance exactly how many pieces of candy each home hands out to the children. A child has to take all the candy given by the home so they don't seem rude, and they can't throw away or eat any candy on the way. Children also have to stop at every home in the sequence of homes.\n",
    "\n",
    "## Challenge\n",
    "\n",
    "Given these conditions write a Python function to find the best consecutive sequence of homes for children to visit with following input/output.\n",
    "\n",
    "Called Kadane's algorithm"
   ]
  },
  {
   "cell_type": "code",
   "execution_count": 26,
   "metadata": {
    "collapsed": false
   },
   "outputs": [],
   "source": [
    "def trick_or_treat(houses,capacity):\n",
    "    \"\"\"return range of houses to maximize candy s.t. capacity\n",
    "\n",
    "    input:\n",
    "      houses = list of house candy output\n",
    "      capacity = max candy that may be collected\n",
    "\n",
    "    output: (start, end)\n",
    "      start = start index of range of houses to visit\n",
    "      end = one past the end index of houses to visit\n",
    "    \"\"\"\n",
    "    candy_count=0\n",
    "    best_count=0\n",
    "    s=0\n",
    "    e=0\n",
    "    for start in range(len(houses)):\n",
    "        candy_count = houses[start]\n",
    "        for f_index in range(len(houses)):        \n",
    "            candy_count += houses[f_index]\n",
    "        \n",
    "            if candy_count > capacity:\n",
    "                break\n",
    "            else:\n",
    "                if best_count > candy_count:\n",
    "                    best_count=candy_count\n",
    "                    s=start\n",
    "                    e=f_index\n",
    "    return s,e"
   ]
  },
  {
   "cell_type": "code",
   "execution_count": 27,
   "metadata": {
    "collapsed": false
   },
   "outputs": [
    {
     "data": {
      "text/plain": [
       "(0, 0)"
      ]
     },
     "execution_count": 27,
     "metadata": {},
     "output_type": "execute_result"
    }
   ],
   "source": [
    "#six houses, first house gives 4, 2nd 0,etc \n",
    "#3 is the capacity constraint (so can't go to houses that give 4 or 2 candies)\n",
    "trick_or_treat([4,0,0,2,3,2],3)"
   ]
  },
  {
   "cell_type": "code",
   "execution_count": 28,
   "metadata": {
    "collapsed": false
   },
   "outputs": [
    {
     "name": "stdout",
     "output_type": "stream",
     "text": [
      "(0, 0)\n",
      "[]\n",
      "0\n"
     ]
    }
   ],
   "source": [
    "h = [13,12,10,9,8,7,6,5,4,3,2,1]\n",
    "s, e = trick_or_treat(h,27)\n",
    "print((s,e))\n",
    "print(h[s:e])\n",
    "print(sum(h[s:e]))"
   ]
  }
 ],
 "metadata": {
  "kernelspec": {
   "display_name": "Python 2",
   "language": "python",
   "name": "python2"
  },
  "language_info": {
   "codemirror_mode": {
    "name": "ipython",
    "version": 2
   },
   "file_extension": ".py",
   "mimetype": "text/x-python",
   "name": "python",
   "nbconvert_exporter": "python",
   "pygments_lexer": "ipython2",
   "version": "2.7.10"
  }
 },
 "nbformat": 4,
 "nbformat_minor": 0
}
