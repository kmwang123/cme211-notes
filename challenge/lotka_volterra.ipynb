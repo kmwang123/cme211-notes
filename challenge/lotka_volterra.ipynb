{
 "cells": [
  {
   "cell_type": "markdown",
   "metadata": {},
   "source": [
    "# Lotka-Volterra Equations\n",
    "\n",
    "From Wikipedia, the free encyclopedia\n",
    "\n",
    "<https://en.wikipedia.org/wiki/Lotka-Volterra_equations>\n",
    "\n",
    "The Lotka–Volterra equations, also known as the predator–prey equations, are a pair of first-order, non-linear, differential equations frequently used to describe the dynamics of biological systems in which two species interact, one as a predator and the other as prey. The populations change through time according to the pair of equations:\n",
    "\n",
    "$$\n",
    "\\begin{align}\n",
    "\\frac{dx}{dt} & = \\alpha x - \\beta x y \\\\\n",
    "\\frac{dy}{dt} & = \\delta x y  - \\gamma y\n",
    "\\end{align}\n",
    "$$\n",
    "\n",
    "* $x$ is the number of prey (for example, rabbits);\n",
    "\n",
    "* $y$ is the number of some predator (for example, foxes);\n",
    "\n",
    "* $dy/dt$ and $dx/dt$ represent the growth rates of the two populations over time;\n",
    "\n",
    "* $t$  represents time; and\n",
    "\n",
    "* $\\alpha$, $\\beta$, $\\gamma$, and $\\delta$ are positive real parameters describing the interaction of the two species.\n",
    "\n",
    "# Challenge\n",
    "\n",
    "Use Euler's method to produce a numerical solution to the Lotka Voltera equations.  Plot with matplotlib.\n",
    "\n",
    "# Euler's method\n",
    "\n",
    "Let $x$ be a vector.  We can define a system of ODEs with an initial value as\n",
    "\n",
    "$$\n",
    "\\begin{align}\n",
    "\\frac{dx}{dt} & = f(x,t) \\\\\n",
    "x(0)          & = x_0.\n",
    "\\end{align}\n",
    "$$\n",
    "\n",
    "In Euler's method, we discretize over time and replace the derivate with a finite difference:\n",
    "\n",
    "$$\n",
    "\\frac{dx}{dt} \\approx \\frac{x_{i+1}-x_i}{\\Delta t}\n",
    "$$\n",
    "\n",
    "The algorithm is:\n",
    "\n",
    "$$\n",
    "x_{i+1} \\gets x_i + \\Delta t f(x_i,t_i).\n",
    "$$\n"
   ]
  },
  {
   "cell_type": "markdown",
   "metadata": {},
   "source": [
    "# Reminder\n",
    "\n",
    "If you want to download the Jupyter notebook from GitHub, click raw above."
   ]
  },
  {
   "cell_type": "code",
   "execution_count": 23,
   "metadata": {
    "collapsed": true
   },
   "outputs": [],
   "source": [
    "import numpy as np\n",
    "import matplotlib.pyplot as plt\n",
    "%matplotlib inline\n",
    "%config InlineBackend.figure_format = 'svg'"
   ]
  },
  {
   "cell_type": "code",
   "execution_count": 24,
   "metadata": {
    "collapsed": true
   },
   "outputs": [],
   "source": [
    "# first define a function for the right hand size\n",
    "def lotka_voltera(x,t,p):\n",
    "    \"\"\"lotka voltera rhs\n",
    "    inputs:\n",
    "      x = state variable vector\n",
    "      t = time\n",
    "      p = dictionary of model parameters\n",
    "    output:\n",
    "      y = derivative vector\n",
    "    \"\"\"\n",
    "    f=(0,0)\n",
    "    f[0]=p['alpha']*x[0] - p['beta']*x[0]*x[1]\n",
    "    f[1]=p['delta']*x[0]*x[1] - p['gamma']*x[1]\n",
    "\n",
    "    \n",
    "    \n",
    "    return f"
   ]
  },
  {
   "cell_type": "code",
   "execution_count": 25,
   "metadata": {
    "collapsed": true
   },
   "outputs": [],
   "source": [
    "# write code for euler's method\n",
    "def forward_euler(f,x0,t0,dt,nt,p):\n",
    "    \"\"\"forward euler's method\n",
    "    inputs:\n",
    "      f  = function to integrate\n",
    "      x0 = initial value\n",
    "      t0 = initial time\n",
    "      dt = time step\n",
    "      nt = desired number of steps\n",
    "      p  = model parameters, passes to f as third argument\n",
    "    output (x, t):\n",
    "      x = state vector over time\n",
    "      t = time values\n",
    "    \"\"\"\n",
    "    #get number of variables\n",
    "    nvar = len(x0)\n",
    "    #allocate output numpy array\n",
    "    x=np.zeros((nvar,nt))\n",
    "    t = np.zeros(nt)\n",
    "    #store initial values\n",
    "    x[0,0] = x0[0]\n",
    "    x[1,0] = x0[1]\n",
    "\n",
    "    t[0] = t0\n",
    "    \n",
    "    for i in xrange(1,nt):\n",
    "          dx=f(x[:,i-1],t[i-1],p)\n",
    "          dx=np.array(dx)\n",
    "          # not finished, nick will post solutions online \n",
    "          x[:,i] \n",
    "          \n",
    "        \n",
    "    return x, t"
   ]
  },
  {
   "cell_type": "code",
   "execution_count": 26,
   "metadata": {
    "collapsed": false
   },
   "outputs": [
    {
     "ename": "NameError",
     "evalue": "name 't' is not defined",
     "output_type": "error",
     "traceback": [
      "\u001b[0;31m---------------------------------------------------------------------------\u001b[0m",
      "\u001b[0;31mNameError\u001b[0m                                 Traceback (most recent call last)",
      "\u001b[0;32m<ipython-input-26-38f0d0c1564a>\u001b[0m in \u001b[0;36m<module>\u001b[0;34m()\u001b[0m\n\u001b[1;32m     11\u001b[0m \u001b[0mnt\u001b[0m \u001b[0;34m=\u001b[0m \u001b[0;36m1000\u001b[0m\u001b[0;34m\u001b[0m\u001b[0m\n\u001b[1;32m     12\u001b[0m \u001b[0;31m# compute numerical solution\u001b[0m\u001b[0;34m\u001b[0m\u001b[0;34m\u001b[0m\u001b[0m\n\u001b[0;32m---> 13\u001b[0;31m \u001b[0mx\u001b[0m\u001b[0;34m,\u001b[0m \u001b[0mt\u001b[0m \u001b[0;34m=\u001b[0m \u001b[0mforward_euler\u001b[0m\u001b[0;34m(\u001b[0m\u001b[0mlotka_voltera\u001b[0m\u001b[0;34m(\u001b[0m\u001b[0mx0\u001b[0m\u001b[0;34m,\u001b[0m\u001b[0mt\u001b[0m\u001b[0;34m,\u001b[0m\u001b[0mp\u001b[0m\u001b[0;34m)\u001b[0m\u001b[0;34m,\u001b[0m\u001b[0mx0\u001b[0m\u001b[0;34m,\u001b[0m\u001b[0mt0\u001b[0m\u001b[0;34m,\u001b[0m\u001b[0mdt\u001b[0m\u001b[0;34m,\u001b[0m\u001b[0mnt\u001b[0m\u001b[0;34m,\u001b[0m\u001b[0mp\u001b[0m\u001b[0;34m)\u001b[0m\u001b[0;34m\u001b[0m\u001b[0m\n\u001b[0m",
      "\u001b[0;31mNameError\u001b[0m: name 't' is not defined"
     ]
    }
   ],
   "source": [
    "# set up parameters\n",
    "p = {}\n",
    "p['alpha'] = 1.0\n",
    "p['beta'] = 1.0\n",
    "p['delta'] = 1.0\n",
    "p['gamma'] = 1.0\n",
    "# set up starting point\n",
    "x0 = (10.0, 5.0)\n",
    "t0 = 0.0\n",
    "dt = 0.01\n",
    "nt = 1000\n",
    "# compute numerical solution\n",
    "x, t = forward_euler(lotka_voltera(x0,t,p),x0,t0,dt,nt,p)"
   ]
  },
  {
   "cell_type": "code",
   "execution_count": null,
   "metadata": {
    "collapsed": true
   },
   "outputs": [],
   "source": []
  },
  {
   "cell_type": "code",
   "execution_count": null,
   "metadata": {
    "collapsed": false
   },
   "outputs": [],
   "source": [
    "# plot\n",
    "plt.plot(t,x[0,:],'r')\n",
    "plt.plot(t,x[1,:],'b')"
   ]
  }
 ],
 "metadata": {
  "kernelspec": {
   "display_name": "Python 2",
   "language": "python",
   "name": "python2"
  },
  "language_info": {
   "codemirror_mode": {
    "name": "ipython",
    "version": 2
   },
   "file_extension": ".py",
   "mimetype": "text/x-python",
   "name": "python",
   "nbconvert_exporter": "python",
   "pygments_lexer": "ipython2",
   "version": "2.7.10"
  }
 },
 "nbformat": 4,
 "nbformat_minor": 0
}
