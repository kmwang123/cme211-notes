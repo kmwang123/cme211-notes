{
 "cells": [
  {
   "cell_type": "markdown",
   "metadata": {},
   "source": [
    "# Merge (without calling `sort`)\n",
    "\n",
    "Today's challenge is to implement a merge operation which combines two sorted lists into a single larger sorted list."
   ]
  },
  {
   "cell_type": "code",
   "execution_count": 1,
   "metadata": {
    "collapsed": true
   },
   "outputs": [],
   "source": [
    "import random"
   ]
  },
  {
   "cell_type": "code",
   "execution_count": 2,
   "metadata": {
    "collapsed": false
   },
   "outputs": [
    {
     "name": "stdout",
     "output_type": "stream",
     "text": [
      "a: [2, 4, 5, 5, 8, 8, 9]\n",
      "b: [1, 2, 4, 9, 10]\n"
     ]
    }
   ],
   "source": [
    "a = [random.randint(1,10) for x in xrange(7)]\n",
    "b = [random.randint(1,10) for x in xrange(5)]\n",
    "a.sort()\n",
    "b.sort()\n",
    "print('a: {}'.format(a))\n",
    "print('b: {}'.format(b))"
   ]
  },
  {
   "cell_type": "code",
   "execution_count": 3,
   "metadata": {
    "collapsed": true
   },
   "outputs": [],
   "source": [
    "def merge(a,b):\n",
    "    pass"
   ]
  },
  {
   "cell_type": "code",
   "execution_count": 4,
   "metadata": {
    "collapsed": false
   },
   "outputs": [],
   "source": [
    "def merge(a,b):\n",
    "    c = []\n",
    "    ai = 0\n",
    "    bi = 0\n",
    "    while True:\n",
    "        if ai == len(a):\n",
    "            # we've used up a, append rest of b\n",
    "            c.extend(b[bi:])\n",
    "            break\n",
    "        if bi == len(b):\n",
    "            # we've used up b, append rest of a\n",
    "            c.extend(a[ai:])\n",
    "            break\n",
    "        if a[ai] <= b[bi]:\n",
    "            #\n",
    "            c.append(a[ai])\n",
    "            ai += 1\n",
    "        else:\n",
    "            c.append(b[bi])\n",
    "            bi += 1\n",
    "    return c\n",
    "    "
   ]
  },
  {
   "cell_type": "code",
   "execution_count": 5,
   "metadata": {
    "collapsed": false
   },
   "outputs": [
    {
     "name": "stdout",
     "output_type": "stream",
     "text": [
      "c: [1, 2, 2, 4, 4, 5, 5, 8, 8, 9, 9, 10]\n"
     ]
    }
   ],
   "source": [
    "c = merge(a,b)\n",
    "print('c: {}'.format(c))"
   ]
  },
  {
   "cell_type": "markdown",
   "metadata": {},
   "source": [
    "# Note on in-place merge\n",
    "\n",
    "It is much harder to implement a merge where data is moved around in the same array.  It is possible, but considerably more difficult.  At home, you may be interested in looking up how to do this."
   ]
  },
  {
   "cell_type": "markdown",
   "metadata": {},
   "source": [
    "# Merge sort (with out calling `sort`)\n",
    "\n",
    "If you have successfully implemented the merge operation, try to implement `merge_sort`.\n",
    "\n",
    "The basic algorithm is:\n",
    "\n",
    "1. split the list in half\n",
    "2. call merge sort on each half\n",
    "3. merge the result of the two smaller halves and return"
   ]
  },
  {
   "cell_type": "code",
   "execution_count": 15,
   "metadata": {
    "collapsed": true
   },
   "outputs": [],
   "source": [
    "def merge_sort(mylist):\n",
    "    if len(mylist) <= 1:\n",
    "        return mylist\n",
    "    cut = len(mylist)/2\n",
    "    left = merge_sort(mylist[:cut])\n",
    "    right = merge_sort(mylist[cut:])\n",
    "    return merge(left,right)"
   ]
  },
  {
   "cell_type": "code",
   "execution_count": 25,
   "metadata": {
    "collapsed": false
   },
   "outputs": [
    {
     "name": "stdout",
     "output_type": "stream",
     "text": [
      "z: [3, 7, 6, 6, 4, 10, 7]\n",
      "sorted_z: [3, 4, 6, 6, 7, 7, 10]\n"
     ]
    }
   ],
   "source": [
    "z = [random.randint(1,10) for x in xrange(7)]\n",
    "print('z: {}'.format(z))\n",
    "sorted_z = merge_sort(z)\n",
    "print('sorted_z: {}'.format(sorted_z))"
   ]
  },
  {
   "cell_type": "code",
   "execution_count": null,
   "metadata": {
    "collapsed": true
   },
   "outputs": [],
   "source": []
  }
 ],
 "metadata": {
  "kernelspec": {
   "display_name": "Python 2",
   "language": "python",
   "name": "python2"
  },
  "language_info": {
   "codemirror_mode": {
    "name": "ipython",
    "version": 2
   },
   "file_extension": ".py",
   "mimetype": "text/x-python",
   "name": "python",
   "nbconvert_exporter": "python",
   "pygments_lexer": "ipython2",
   "version": "2.7.10"
  }
 },
 "nbformat": 4,
 "nbformat_minor": 0
}
