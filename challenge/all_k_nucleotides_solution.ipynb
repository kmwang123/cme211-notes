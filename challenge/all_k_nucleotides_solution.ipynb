{
 "cells": [
  {
   "cell_type": "markdown",
   "metadata": {},
   "source": [
    "# All $k$-nucleotides\n",
    "\n",
    "Today's challenge is to implement the function `get_k_nucleotides` from CME 211 quiz 1.\n",
    "\n",
    "## Description of problem from quiz\n",
    "\n",
    "One common technique in DNA analysis is comparing the frequencies of $k$-nucleotide sequences. A $k$-nucleotide is a sequence of of $k$ DNA nucleotides. In order to perform any analysis of $k$-nucleotides, it is useful to have a container with all $k$-nucleotides.\n",
    "\n",
    "Write the function `get_k_nucleotides(k)` which takes in `k` as the nucleotide sequence length as an input argument and returns a list object containing all length `k` nucleotide sequences as Python strings.\n",
    "\n",
    "Remember the DNA \"letters\" are A, C, G, and T."
   ]
  },
  {
   "cell_type": "code",
   "execution_count": 3,
   "metadata": {
    "collapsed": true
   },
   "outputs": [],
   "source": [
    "# example function\n",
    "def get_k_nucleotides(k):\n",
    "    pass"
   ]
  },
  {
   "cell_type": "code",
   "execution_count": 8,
   "metadata": {
    "collapsed": true
   },
   "outputs": [],
   "source": [
    "# solution 1\n",
    "def get_k_nucleotides(k):\n",
    "    # return empty list for k == 0\n",
    "    if k == 0:\n",
    "        return []\n",
    "    # list of nucleotides\n",
    "    nts = ['A', 'C', 'G', 'T']\n",
    "    # list of k-nucleotides, that will be expanded\n",
    "    knts = ['A', 'C', 'G', 'T']\n",
    "    for i in xrange(k-1):\n",
    "        temp_knts = []\n",
    "        for nt in nts: # for each nucleotide\n",
    "            for knt in knts:\n",
    "                # extend sequence in knt with current nucleotide (nt)\n",
    "                temp_knts.append(knt + nt)\n",
    "        # reassign to knts\n",
    "        knts = temp_knts\n",
    "    return knts"
   ]
  },
  {
   "cell_type": "code",
   "execution_count": 9,
   "metadata": {
    "collapsed": false
   },
   "outputs": [
    {
     "data": {
      "text/plain": [
       "[]"
      ]
     },
     "execution_count": 9,
     "metadata": {},
     "output_type": "execute_result"
    }
   ],
   "source": [
    "# example 0\n",
    "get_k_nucleotides(0)"
   ]
  },
  {
   "cell_type": "code",
   "execution_count": 10,
   "metadata": {
    "collapsed": false
   },
   "outputs": [
    {
     "data": {
      "text/plain": [
       "['A', 'C', 'G', 'T']"
      ]
     },
     "execution_count": 10,
     "metadata": {},
     "output_type": "execute_result"
    }
   ],
   "source": [
    "# example 1\n",
    "get_k_nucleotides(1)"
   ]
  },
  {
   "cell_type": "code",
   "execution_count": 11,
   "metadata": {
    "collapsed": false
   },
   "outputs": [
    {
     "data": {
      "text/plain": [
       "['AA',\n",
       " 'CA',\n",
       " 'GA',\n",
       " 'TA',\n",
       " 'AC',\n",
       " 'CC',\n",
       " 'GC',\n",
       " 'TC',\n",
       " 'AG',\n",
       " 'CG',\n",
       " 'GG',\n",
       " 'TG',\n",
       " 'AT',\n",
       " 'CT',\n",
       " 'GT',\n",
       " 'TT']"
      ]
     },
     "execution_count": 11,
     "metadata": {},
     "output_type": "execute_result"
    }
   ],
   "source": [
    "# example 2\n",
    "get_k_nucleotides(2)"
   ]
  },
  {
   "cell_type": "markdown",
   "metadata": {},
   "source": [
    "## Solution notes\n",
    "\n",
    "This is direct enumeration of a combinatorial sequence.  It is often useful to do this in practice for small values of `k`.  Of course the size the of the output list is exponential in `k`, so this is impractical for large `k`.\n",
    "\n",
    "We can also implement this with recursion"
   ]
  },
  {
   "cell_type": "code",
   "execution_count": 13,
   "metadata": {
    "collapsed": true
   },
   "outputs": [],
   "source": [
    "# recursive solution\n",
    "def recursive_get_k_nuc(k):\n",
    "    # base case: k == 0\n",
    "    if k == 0:\n",
    "        return []\n",
    "    if k == 1:\n",
    "        return ['A', 'C', 'G', 'T']\n",
    "    nts = ['A', 'C', 'G', 'T']\n",
    "    # get k-1 nucleotides\n",
    "    km1nts = recursive_get_k_nuc(k-1)\n",
    "    # construct k nucleotides\n",
    "    knts = []\n",
    "    for nt in nts:\n",
    "        for km1nt in km1nts:\n",
    "            knts.append(km1nt + nt)\n",
    "    return knts"
   ]
  },
  {
   "cell_type": "code",
   "execution_count": 14,
   "metadata": {
    "collapsed": false
   },
   "outputs": [
    {
     "data": {
      "text/plain": [
       "[]"
      ]
     },
     "execution_count": 14,
     "metadata": {},
     "output_type": "execute_result"
    }
   ],
   "source": [
    "recursive_get_k_nuc(0)"
   ]
  },
  {
   "cell_type": "code",
   "execution_count": 15,
   "metadata": {
    "collapsed": false
   },
   "outputs": [
    {
     "data": {
      "text/plain": [
       "['A', 'C', 'G', 'T']"
      ]
     },
     "execution_count": 15,
     "metadata": {},
     "output_type": "execute_result"
    }
   ],
   "source": [
    "recursive_get_k_nuc(1)"
   ]
  },
  {
   "cell_type": "code",
   "execution_count": 16,
   "metadata": {
    "collapsed": false
   },
   "outputs": [
    {
     "data": {
      "text/plain": [
       "['AA',\n",
       " 'CA',\n",
       " 'GA',\n",
       " 'TA',\n",
       " 'AC',\n",
       " 'CC',\n",
       " 'GC',\n",
       " 'TC',\n",
       " 'AG',\n",
       " 'CG',\n",
       " 'GG',\n",
       " 'TG',\n",
       " 'AT',\n",
       " 'CT',\n",
       " 'GT',\n",
       " 'TT']"
      ]
     },
     "execution_count": 16,
     "metadata": {},
     "output_type": "execute_result"
    }
   ],
   "source": [
    "recursive_get_k_nuc(2)"
   ]
  },
  {
   "cell_type": "markdown",
   "metadata": {},
   "source": [
    "## List comprehension\n",
    "\n",
    "The following operation is quite common in python, where `xs` is a list and `f` is a function:\n",
    "\n",
    "```\n",
    "ys = []\n",
    "for x in xs:\n",
    "    ys.append(f(x))\n",
    "```\n",
    "\n",
    "This can be accomplished in a single line of code with:\n",
    "\n",
    "```\n",
    "ys = [f(x) for x in xs]\n",
    "```\n",
    "\n",
    "Pretty sweet!\n"
   ]
  },
  {
   "cell_type": "code",
   "execution_count": 17,
   "metadata": {
    "collapsed": false
   },
   "outputs": [
    {
     "name": "stdout",
     "output_type": "stream",
     "text": [
      "['hi nick', 'hi jane', 'hi bob', 'hi sally']\n"
     ]
    }
   ],
   "source": [
    "# example of a list comprehension\n",
    "names = ['nick', 'jane', 'bob', 'sally']\n",
    "greetings = ['hi ' + name for name in names]\n",
    "print(greetings)"
   ]
  },
  {
   "cell_type": "code",
   "execution_count": 20,
   "metadata": {
    "collapsed": true
   },
   "outputs": [],
   "source": [
    "# solution using list comprehensions\n",
    "# recursive solution with list comprehensions\n",
    "def recursive_get_k_nuc_2(k):\n",
    "    # base case: k == 0\n",
    "    if k == 0:\n",
    "        return []\n",
    "    if k == 1:\n",
    "        return ['A', 'C', 'G', 'T']\n",
    "    nts = ['A', 'C', 'G', 'T']\n",
    "    # get k-1 nucleotides\n",
    "    km1nts = recursive_get_k_nuc(k-1)\n",
    "    # construct k nucleotides\n",
    "    knts = []\n",
    "    for nt in nts:\n",
    "        knts.extend([km1nt + nt for km1nt in km1nts])\n",
    "    return knts"
   ]
  },
  {
   "cell_type": "code",
   "execution_count": 29,
   "metadata": {
    "collapsed": true
   },
   "outputs": [],
   "source": [
    "# use itertools.product\n",
    "from itertools import product\n",
    "def recursive_get_k_nuc_3(k):\n",
    "    # base case: k == 0\n",
    "    if k == 0:\n",
    "        return []\n",
    "    if k == 1:\n",
    "        return ['A', 'C', 'G', 'T']\n",
    "    nts = ['A', 'C', 'G', 'T']\n",
    "    # get k-1 nucleotides\n",
    "    km1nts = recursive_get_k_nuc(k-1)\n",
    "    # construct k nucleotides\n",
    "    knts = [km1nt + nt for km1nt, nt in product(km1nts,nts)]\n",
    "    return knts"
   ]
  },
  {
   "cell_type": "code",
   "execution_count": 52,
   "metadata": {
    "collapsed": false
   },
   "outputs": [],
   "source": [
    "# use python magic\n",
    "from itertools import product\n",
    "def get_k_nuc_4(k):\n",
    "    nts = ['A', 'C', 'G', 'T']\n",
    "    knts = [''.join(x) for x in product(*[['A', 'C', 'G', 'T']]*k)]\n",
    "    return knts"
   ]
  },
  {
   "cell_type": "code",
   "execution_count": 32,
   "metadata": {
    "collapsed": true
   },
   "outputs": [],
   "source": [
    "nts = ['A', 'C', 'G', 'T']"
   ]
  },
  {
   "cell_type": "code",
   "execution_count": 60,
   "metadata": {
    "collapsed": false
   },
   "outputs": [
    {
     "name": "stdout",
     "output_type": "stream",
     "text": [
      "['AA', 'AC', 'AG', 'AT', 'CA', 'CC', 'CG', 'CT', 'GA', 'GC', 'GG', 'GT', 'TA', 'TC', 'TG', 'TT']\n"
     ]
    }
   ],
   "source": [
    "# one liner\n",
    "k = 2\n",
    "knts = [''.join(x) for x in product(*[['A', 'C', 'G', 'T']]*k)]\n",
    "print(knts)"
   ]
  }
 ],
 "metadata": {
  "kernelspec": {
   "display_name": "Python 2",
   "language": "python",
   "name": "python2"
  },
  "language_info": {
   "codemirror_mode": {
    "name": "ipython",
    "version": 2
   },
   "file_extension": ".py",
   "mimetype": "text/x-python",
   "name": "python",
   "nbconvert_exporter": "python",
   "pygments_lexer": "ipython2",
   "version": "2.7.10"
  }
 },
 "nbformat": 4,
 "nbformat_minor": 0
}
