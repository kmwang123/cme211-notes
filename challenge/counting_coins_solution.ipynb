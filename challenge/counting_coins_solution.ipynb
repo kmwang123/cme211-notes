{
 "cells": [
  {
   "cell_type": "markdown",
   "metadata": {},
   "source": [
    "# Counting coins\n",
    "\n",
    "Write a Python function to make change given a set of coins and a total amount.\n",
    "The overall goal is to minimize the number of coins for the given total.  The\n",
    "function prototype could be:\n",
    "\n",
    "```py\n",
    "def count_coins(total, coins):\n",
    "    \"\"\"Make change for total amount given set of coins\n",
    "    \n",
    "    Inputs:\n",
    "      total: total amount for which one desires change\n",
    "      coins: set of coins\n",
    "    \n",
    "    Returns a dictionary where keys are the coin value and the values are the count\n",
    "    of that coin type.\n",
    "    \"\"\"\n",
    "    pass\n",
    "```\n",
    "\n",
    "## Example 1\n",
    "\n",
    "The normal coins that we use could be represented by the set: `{25,10,5,1}`.\n",
    "\n",
    "```\n",
    "count_coins(30,{25,10,5,1})\n",
    "```\n",
    "\n",
    "Could return:\n",
    "\n",
    "```\n",
    "{25:1,10:0,5:1,1:0}\n",
    "```\n",
    "\n",
    "## Example 2\n",
    "\n",
    "```\n",
    "count_coins(30,{25,10,5,1})\n",
    "```\n",
    "\n",
    "Could return:\n",
    "\n",
    "```\n",
    "{25:1, 10:0, 5:1, 1:0}\n",
    "```\n",
    "\n",
    "## Example 2\n",
    "\n",
    "```\n",
    "count_coins(17,{25,10,5,1})\n",
    "```\n",
    "\n",
    "Could return:\n",
    "\n",
    "```\n",
    "{25:0, 10:1,5:1,1:2}\n",
    "```\n",
    "\n",
    "## Example 3\n",
    "\n",
    "Let's change our coin set to: `{4, 3, 1}`\n",
    "\n",
    "What about:\n",
    "\n",
    "```\n",
    "count_coins(6, {4, 3, 1})\n",
    "```\n",
    "\n",
    "What would your algorithm return?  Is that the minimum number of coins?  How\n",
    "might we minimize the number of coins.\n"
   ]
  },
  {
   "cell_type": "code",
   "execution_count": 6,
   "metadata": {
    "collapsed": false
   },
   "outputs": [
    {
     "name": "stdout",
     "output_type": "stream",
     "text": [
      "{1: 2, 3: 0, 4: 1}\n"
     ]
    }
   ],
   "source": [
    "def count_coins_1(total, coins):\n",
    "    coins = list(coins)\n",
    "    coins.sort(reverse=True)\n",
    "    counts = {}\n",
    "    # loop through coins in descending order\n",
    "    for c in coins:\n",
    "        tdc = total / c\n",
    "        counts[c] = tdc\n",
    "        total = total - c*tdc\n",
    "    return counts\n",
    "\n",
    "c = count_coins_1(6, {4, 3, 1})\n",
    "print(c)"
   ]
  },
  {
   "cell_type": "code",
   "execution_count": 4,
   "metadata": {
    "collapsed": true
   },
   "outputs": [],
   "source": [
    "# please note, this is an imcomplete recursive solution to the problem of\n",
    "# minimizing the number of coins\n",
    "\n",
    "def count_coins_helper(coin_dict):\n",
    "    \"\"\"return total coins in dictionary\"\"\"\n",
    "    sum_coins = 0\n",
    "    for coin, count in coin_dict.items():\n",
    "        sum_coins += count\n",
    "    return sum_coins\n",
    "\n",
    "def add_coin(coin_dict, coin):\n",
    "    if coin in coin_dict:\n",
    "        coin_dict[coin] += 1\n",
    "    else:\n",
    "        coin_dict[coin] = 1\n",
    "\n",
    "def count_coins_2(total,coins):\n",
    "    # assume coins sorted in descending order\n",
    "\n",
    "    if total == 0:\n",
    "        return {}\n",
    "    \n",
    "    recur = {}\n",
    "\n",
    "    # recur\n",
    "    for c in coins:\n",
    "        if total >= c:\n",
    "            recur[c] = count_coins_2(total-c,coins)\n",
    "            add_coin(recur[c],c)\n",
    "    \n",
    "    # count the coins from the recursion\n",
    "    counts = {}\n",
    "    for c in recur:\n",
    "        counts[c] = count_coins_helper(recur[c])\n",
    "    min_coin = min(counts.items(),key = lambda x:x[1])[0]\n",
    "    \n",
    "    # add the min_coin\n",
    "    if min_coin in recur[min_coin]:\n",
    "        recur[min_coin][min_coin] += 1\n",
    "    else:\n",
    "        recur[min_coin][min_coin] = 1\n",
    "    print(\"total: {}, min_coin: {}, counts: {}\".format(total,min_coin,counts),recur[min_coin])\n",
    "    return recur[min_coin]"
   ]
  },
  {
   "cell_type": "code",
   "execution_count": 5,
   "metadata": {
    "collapsed": false
   },
   "outputs": [
    {
     "name": "stdout",
     "output_type": "stream",
     "text": [
      "('total: 1, min_coin: 1, counts: {1: 1}', {1: 2})\n",
      "('total: 2, min_coin: 1, counts: {1: 3}', {1: 4})\n",
      "('total: 1, min_coin: 1, counts: {1: 1}', {1: 2})\n",
      "('total: 2, min_coin: 1, counts: {1: 3}', {1: 4})\n",
      "('total: 3, min_coin: 3, counts: {1: 5, 3: 1}', {3: 2})\n",
      "('total: 1, min_coin: 1, counts: {1: 1}', {1: 2})\n",
      "('total: 1, min_coin: 1, counts: {1: 1}', {1: 2})\n",
      "('total: 2, min_coin: 1, counts: {1: 3}', {1: 4})\n",
      "('total: 1, min_coin: 1, counts: {1: 1}', {1: 2})\n",
      "('total: 1, min_coin: 1, counts: {1: 1}', {1: 2})\n",
      "('total: 2, min_coin: 1, counts: {1: 3}', {1: 4})\n",
      "('total: 3, min_coin: 3, counts: {1: 5, 3: 1}', {3: 2})\n",
      "('total: 4, min_coin: 4, counts: {1: 3, 3: 3, 4: 1}', {4: 2})\n",
      "('total: 5, min_coin: 1, counts: {1: 3, 3: 5, 4: 3}', {1: 2, 4: 2})\n",
      "('total: 6, min_coin: 3, counts: {1: 5, 3: 3, 4: 5}', {3: 4})\n"
     ]
    },
    {
     "data": {
      "text/plain": [
       "{3: 4}"
      ]
     },
     "execution_count": 5,
     "metadata": {},
     "output_type": "execute_result"
    }
   ],
   "source": [
    "count_coins_2(6,[4, 3, 1])"
   ]
  },
  {
   "cell_type": "code",
   "execution_count": 35,
   "metadata": {
    "collapsed": false
   },
   "outputs": [
    {
     "name": "stdout",
     "output_type": "stream",
     "text": [
      "total: 1, min_coin: 1, counts: {1: 0}\n",
      "total: 1, min_coin: 1, counts: {1: 0}\n",
      "total: 2, min_coin: 1, counts: {1: 1}\n",
      "total: 1, min_coin: 1, counts: {1: 0}\n",
      "total: 1, min_coin: 1, counts: {1: 0}\n",
      "total: 2, min_coin: 1, counts: {1: 1}\n",
      "total: 3, min_coin: 3, counts: {1: 2, 3: 0}\n",
      "total: 4, min_coin: 4, counts: {1: 1, 3: 1, 4: 0}\n",
      "total: 5, min_coin: 1, counts: {1: 1, 3: 2, 4: 1}\n"
     ]
    },
    {
     "data": {
      "text/plain": [
       "{1: 1, 4: 1}"
      ]
     },
     "execution_count": 35,
     "metadata": {},
     "output_type": "execute_result"
    }
   ],
   "source": [
    "count_coins_2(5,[4, 3, 1])"
   ]
  },
  {
   "cell_type": "code",
   "execution_count": null,
   "metadata": {
    "collapsed": true
   },
   "outputs": [],
   "source": []
  }
 ],
 "metadata": {
  "kernelspec": {
   "display_name": "Python 2",
   "language": "python",
   "name": "python2"
  },
  "language_info": {
   "codemirror_mode": {
    "name": "ipython",
    "version": 2
   },
   "file_extension": ".py",
   "mimetype": "text/x-python",
   "name": "python",
   "nbconvert_exporter": "python",
   "pygments_lexer": "ipython2",
   "version": "2.7.10"
  }
 },
 "nbformat": 4,
 "nbformat_minor": 0
}
