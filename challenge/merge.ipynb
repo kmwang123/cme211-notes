{
 "cells": [
  {
   "cell_type": "markdown",
   "metadata": {},
   "source": [
    "# Merge (without calling `sort`)\n",
    "\n",
    "Today's challenge is to implement a merge operation which combines two sorted lists into a single larger sorted list."
   ]
  },
  {
   "cell_type": "code",
   "execution_count": 35,
   "metadata": {
    "collapsed": true
   },
   "outputs": [],
   "source": [
    "import random"
   ]
  },
  {
   "cell_type": "code",
   "execution_count": 39,
   "metadata": {
    "collapsed": false
   },
   "outputs": [
    {
     "name": "stdout",
     "output_type": "stream",
     "text": [
      "a: [1, 3, 5, 5, 9, 9, 10]\n",
      "b: [1, 3, 5, 7, 10]\n"
     ]
    }
   ],
   "source": [
    "a = [random.randint(1,10) for x in xrange(7)]\n",
    "b = [random.randint(1,10) for x in xrange(5)]\n",
    "a.sort()\n",
    "b.sort()\n",
    "print('a: {}'.format(a))\n",
    "print('b: {}'.format(b))"
   ]
  },
  {
   "cell_type": "code",
   "execution_count": 40,
   "metadata": {
    "collapsed": true
   },
   "outputs": [],
   "source": [
    "def merge(a,b):\n",
    "    pass"
   ]
  },
  {
   "cell_type": "code",
   "execution_count": 42,
   "metadata": {
    "collapsed": false
   },
   "outputs": [
    {
     "name": "stdout",
     "output_type": "stream",
     "text": [
      "c: [1, 1, 3, 3, 5, 5, 5, 7, 9, 9, 10, 10]\n"
     ]
    }
   ],
   "source": [
    "c = merge(a,b)\n",
    "print('c: {}'.format(c))"
   ]
  },
  {
   "cell_type": "markdown",
   "metadata": {},
   "source": [
    "# Note on in-place merge\n",
    "\n",
    "It is much harder to implement a merge where data is moved around in the same array.  It is possible, but considerably more difficult.  At home, you may be interested in looking up how to do this."
   ]
  },
  {
   "cell_type": "markdown",
   "metadata": {},
   "source": [
    "# Merge sort (with out calling `sort`)\n",
    "\n",
    "If you have successfully implemented the merge operation, try to implement `merge_sort`.\n",
    "\n",
    "The basic algorithm is:\n",
    "\n",
    "1. split the list in half\n",
    "2. call merge sort on each half\n",
    "3. merge the result of the two smaller halves and return"
   ]
  }
 ],
 "metadata": {
  "kernelspec": {
   "display_name": "Python 2",
   "language": "python",
   "name": "python2"
  },
  "language_info": {
   "codemirror_mode": {
    "name": "ipython",
    "version": 2
   },
   "file_extension": ".py",
   "mimetype": "text/x-python",
   "name": "python",
   "nbconvert_exporter": "python",
   "pygments_lexer": "ipython2",
   "version": "2.7.10"
  }
 },
 "nbformat": 4,
 "nbformat_minor": 0
}
